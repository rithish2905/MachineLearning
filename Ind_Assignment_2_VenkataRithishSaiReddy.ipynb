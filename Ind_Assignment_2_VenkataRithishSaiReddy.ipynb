{
 "cells": [
  {
   "cell_type": "markdown",
   "metadata": {
    "id": "RY4WMqrUGX_V"
   },
   "source": [
    "# Individual Assignment 2\n",
    "\n",
    "##### You can work on this file directly and fill in your answers/code below. Please save as HTML or PDF and submit to Blackboard.\n",
    "\n",
    "\n",
    "#### Student Name: Venkata Rithish Sai Reddy Yarasu [G46195694]\n"
   ]
  },
  {
   "cell_type": "markdown",
   "metadata": {
    "id": "3GHOCaAXGX_W"
   },
   "source": [
    "# Capital Bikeshare Problem\n",
    "\n",
    "## Classification: More Pickups or More Dropoffs\n",
    "\n",
    "In Part I of the group assignment, we developed prediction models for both pickups and drop-offs. If the predicted pickups exceed the drop-offs, it suggests that the operator should allocate more bikes than the open docks. One straightforward method for this prediction involves directly comparing the predicted 'pu_ct' with 'do_ct' from the regression models. However, this approach does not provide insights into how likely 'pu_ct' will be greater than 'do_ct'.\n",
    "\n",
    "Alternatively, we can frame it as a classification problem by initially determining, within the dataset, whether 'pu_ct $\\geq$ do_ct' for each day (here, we consider 'greater than or equal to'). Subsequently, the target variable transforms into True/False. We can then utilize logistic regression for the classification task. Moving forward, our aim is to construct a logistic regression model with features 'temp', 'precip', and 'windspeed', utilizing the same datasets from the group assignment."
   ]
  },
  {
   "cell_type": "code",
   "execution_count": 2,
   "metadata": {
    "id": "zmwn8rXfLwil"
   },
   "outputs": [],
   "source": [
    "import pandas as pd\n",
    "import numpy as np\n",
    "import matplotlib.pyplot as plt\n",
    "import matplotlib.dates as mdates\n",
    "import seaborn as sns\n",
    "from sklearn.linear_model import LinearRegression, Ridge, RidgeCV, Lasso, LassoCV\n",
    "from sklearn.preprocessing import scale"
   ]
  },
  {
   "cell_type": "code",
   "execution_count": 3,
   "metadata": {
    "id": "Q1jpviw5L15M"
   },
   "outputs": [],
   "source": [
    "#read bikeshare files\n",
    "df_Feb = pd.read_csv('/Users/yvrit/Desktop/GW ClassRoom/Spring 24/ML1/grp assgmt/202302-captialbikeshare-tripdata.csv')\n",
    "df_Mar = pd.read_csv('/Users/yvrit/Desktop/GW ClassRoom/Spring 24/ML1/grp assgmt/202303-capitalbikeshare-tripdata.csv')\n",
    "df_Apr = pd.read_csv('/Users/yvrit/Desktop/GW ClassRoom/Spring 24/ML1/grp assgmt/202304-capitalbikeshare-tripdata.csv')\n",
    "df_May = pd.read_csv('/Users/yvrit/Desktop/GW ClassRoom/Spring 24/ML1/grp assgmt/202305-capitalbikeshare-tripdata.csv')\n",
    "df_Jun = pd.read_csv('/Users/yvrit/Desktop/GW ClassRoom/Spring 24/ML1/grp assgmt/202306-capitalbikeshare-tripdata.csv')"
   ]
  },
  {
   "cell_type": "code",
   "execution_count": 4,
   "metadata": {
    "id": "1xmdEVELNLhx"
   },
   "outputs": [],
   "source": [
    "#concat the data\n",
    "df_bike = pd.concat([df_Feb, df_Mar, df_Apr, df_May, df_Jun])\n",
    "\n",
    "#transform time to date only\n",
    "df_bike['started_at_date'] = pd.to_datetime(df_bike['started_at']).dt.date\n",
    "df_bike['ended_at_date'] = pd.to_datetime(df_bike['ended_at']).dt.date\n",
    "\n",
    "#weather data\n",
    "df_weather = pd.read_csv('/Users/yvrit/Desktop/GW ClassRoom/Spring 24/ML1/ind 2/washington, dc 2023-01-01 to 2023-12-31.csv')\n",
    "\n",
    "#datetime column to date format\n",
    "df_weather['datetime'] = pd.to_datetime(df_weather['datetime']).dt.date\n",
    "\n",
    "#filter pu_ct\n",
    "pu_ct = df_bike[df_bike['start_station_name'] == \"22nd & H St NW\"].groupby('started_at_date').size().reset_index(name='pu_ct')\n",
    "\n",
    "#filter do_ct\n",
    "do_ct = df_bike[df_bike['end_station_name'] == \"22nd & H St NW\"].groupby('ended_at_date').size().reset_index(name='do_ct')\n"
   ]
  },
  {
   "cell_type": "code",
   "execution_count": 5,
   "metadata": {
    "colab": {
     "base_uri": "https://localhost:8080/",
     "height": 423
    },
    "id": "VB5n8Og0bZlL",
    "outputId": "a8f6dcf4-e046-416b-9d54-6095c06e8b07"
   },
   "outputs": [
    {
     "data": {
      "text/html": [
       "<div>\n",
       "<style scoped>\n",
       "    .dataframe tbody tr th:only-of-type {\n",
       "        vertical-align: middle;\n",
       "    }\n",
       "\n",
       "    .dataframe tbody tr th {\n",
       "        vertical-align: top;\n",
       "    }\n",
       "\n",
       "    .dataframe thead th {\n",
       "        text-align: right;\n",
       "    }\n",
       "</style>\n",
       "<table border=\"1\" class=\"dataframe\">\n",
       "  <thead>\n",
       "    <tr style=\"text-align: right;\">\n",
       "      <th></th>\n",
       "      <th>started_at_date</th>\n",
       "      <th>pu_ct</th>\n",
       "    </tr>\n",
       "  </thead>\n",
       "  <tbody>\n",
       "    <tr>\n",
       "      <th>0</th>\n",
       "      <td>2023-02-01</td>\n",
       "      <td>20</td>\n",
       "    </tr>\n",
       "    <tr>\n",
       "      <th>1</th>\n",
       "      <td>2023-02-02</td>\n",
       "      <td>26</td>\n",
       "    </tr>\n",
       "    <tr>\n",
       "      <th>2</th>\n",
       "      <td>2023-02-03</td>\n",
       "      <td>14</td>\n",
       "    </tr>\n",
       "    <tr>\n",
       "      <th>3</th>\n",
       "      <td>2023-02-04</td>\n",
       "      <td>12</td>\n",
       "    </tr>\n",
       "    <tr>\n",
       "      <th>4</th>\n",
       "      <td>2023-02-05</td>\n",
       "      <td>17</td>\n",
       "    </tr>\n",
       "    <tr>\n",
       "      <th>...</th>\n",
       "      <td>...</td>\n",
       "      <td>...</td>\n",
       "    </tr>\n",
       "    <tr>\n",
       "      <th>145</th>\n",
       "      <td>2023-06-26</td>\n",
       "      <td>21</td>\n",
       "    </tr>\n",
       "    <tr>\n",
       "      <th>146</th>\n",
       "      <td>2023-06-27</td>\n",
       "      <td>20</td>\n",
       "    </tr>\n",
       "    <tr>\n",
       "      <th>147</th>\n",
       "      <td>2023-06-28</td>\n",
       "      <td>26</td>\n",
       "    </tr>\n",
       "    <tr>\n",
       "      <th>148</th>\n",
       "      <td>2023-06-29</td>\n",
       "      <td>32</td>\n",
       "    </tr>\n",
       "    <tr>\n",
       "      <th>149</th>\n",
       "      <td>2023-06-30</td>\n",
       "      <td>29</td>\n",
       "    </tr>\n",
       "  </tbody>\n",
       "</table>\n",
       "<p>150 rows × 2 columns</p>\n",
       "</div>"
      ],
      "text/plain": [
       "    started_at_date  pu_ct\n",
       "0        2023-02-01     20\n",
       "1        2023-02-02     26\n",
       "2        2023-02-03     14\n",
       "3        2023-02-04     12\n",
       "4        2023-02-05     17\n",
       "..              ...    ...\n",
       "145      2023-06-26     21\n",
       "146      2023-06-27     20\n",
       "147      2023-06-28     26\n",
       "148      2023-06-29     32\n",
       "149      2023-06-30     29\n",
       "\n",
       "[150 rows x 2 columns]"
      ]
     },
     "execution_count": 5,
     "metadata": {},
     "output_type": "execute_result"
    }
   ],
   "source": [
    "pu_ct"
   ]
  },
  {
   "cell_type": "code",
   "execution_count": 6,
   "metadata": {
    "colab": {
     "base_uri": "https://localhost:8080/",
     "height": 423
    },
    "id": "Vtqv0wPMb8jc",
    "outputId": "3f1aed94-14af-45ac-c684-6d762a4abef5"
   },
   "outputs": [
    {
     "data": {
      "text/html": [
       "<div>\n",
       "<style scoped>\n",
       "    .dataframe tbody tr th:only-of-type {\n",
       "        vertical-align: middle;\n",
       "    }\n",
       "\n",
       "    .dataframe tbody tr th {\n",
       "        vertical-align: top;\n",
       "    }\n",
       "\n",
       "    .dataframe thead th {\n",
       "        text-align: right;\n",
       "    }\n",
       "</style>\n",
       "<table border=\"1\" class=\"dataframe\">\n",
       "  <thead>\n",
       "    <tr style=\"text-align: right;\">\n",
       "      <th></th>\n",
       "      <th>ended_at_date</th>\n",
       "      <th>do_ct</th>\n",
       "    </tr>\n",
       "  </thead>\n",
       "  <tbody>\n",
       "    <tr>\n",
       "      <th>0</th>\n",
       "      <td>2023-02-01</td>\n",
       "      <td>24</td>\n",
       "    </tr>\n",
       "    <tr>\n",
       "      <th>1</th>\n",
       "      <td>2023-02-02</td>\n",
       "      <td>28</td>\n",
       "    </tr>\n",
       "    <tr>\n",
       "      <th>2</th>\n",
       "      <td>2023-02-03</td>\n",
       "      <td>17</td>\n",
       "    </tr>\n",
       "    <tr>\n",
       "      <th>3</th>\n",
       "      <td>2023-02-04</td>\n",
       "      <td>13</td>\n",
       "    </tr>\n",
       "    <tr>\n",
       "      <th>4</th>\n",
       "      <td>2023-02-05</td>\n",
       "      <td>24</td>\n",
       "    </tr>\n",
       "    <tr>\n",
       "      <th>...</th>\n",
       "      <td>...</td>\n",
       "      <td>...</td>\n",
       "    </tr>\n",
       "    <tr>\n",
       "      <th>145</th>\n",
       "      <td>2023-06-26</td>\n",
       "      <td>18</td>\n",
       "    </tr>\n",
       "    <tr>\n",
       "      <th>146</th>\n",
       "      <td>2023-06-27</td>\n",
       "      <td>21</td>\n",
       "    </tr>\n",
       "    <tr>\n",
       "      <th>147</th>\n",
       "      <td>2023-06-28</td>\n",
       "      <td>26</td>\n",
       "    </tr>\n",
       "    <tr>\n",
       "      <th>148</th>\n",
       "      <td>2023-06-29</td>\n",
       "      <td>43</td>\n",
       "    </tr>\n",
       "    <tr>\n",
       "      <th>149</th>\n",
       "      <td>2023-06-30</td>\n",
       "      <td>21</td>\n",
       "    </tr>\n",
       "  </tbody>\n",
       "</table>\n",
       "<p>150 rows × 2 columns</p>\n",
       "</div>"
      ],
      "text/plain": [
       "    ended_at_date  do_ct\n",
       "0      2023-02-01     24\n",
       "1      2023-02-02     28\n",
       "2      2023-02-03     17\n",
       "3      2023-02-04     13\n",
       "4      2023-02-05     24\n",
       "..            ...    ...\n",
       "145    2023-06-26     18\n",
       "146    2023-06-27     21\n",
       "147    2023-06-28     26\n",
       "148    2023-06-29     43\n",
       "149    2023-06-30     21\n",
       "\n",
       "[150 rows x 2 columns]"
      ]
     },
     "execution_count": 6,
     "metadata": {},
     "output_type": "execute_result"
    }
   ],
   "source": [
    "do_ct"
   ]
  },
  {
   "cell_type": "code",
   "execution_count": 7,
   "metadata": {
    "colab": {
     "base_uri": "https://localhost:8080/",
     "height": 423
    },
    "id": "rF-rc7h6cbyA",
    "outputId": "99d15511-68fe-4e3c-bd02-6210318c03b8"
   },
   "outputs": [
    {
     "data": {
      "text/html": [
       "<div>\n",
       "<style scoped>\n",
       "    .dataframe tbody tr th:only-of-type {\n",
       "        vertical-align: middle;\n",
       "    }\n",
       "\n",
       "    .dataframe tbody tr th {\n",
       "        vertical-align: top;\n",
       "    }\n",
       "\n",
       "    .dataframe thead th {\n",
       "        text-align: right;\n",
       "    }\n",
       "</style>\n",
       "<table border=\"1\" class=\"dataframe\">\n",
       "  <thead>\n",
       "    <tr style=\"text-align: right;\">\n",
       "      <th></th>\n",
       "      <th>started_at_date</th>\n",
       "      <th>pu_ct</th>\n",
       "      <th>ended_at_date</th>\n",
       "      <th>do_ct</th>\n",
       "    </tr>\n",
       "  </thead>\n",
       "  <tbody>\n",
       "    <tr>\n",
       "      <th>0</th>\n",
       "      <td>2023-02-01</td>\n",
       "      <td>20</td>\n",
       "      <td>2023-02-01</td>\n",
       "      <td>24</td>\n",
       "    </tr>\n",
       "    <tr>\n",
       "      <th>1</th>\n",
       "      <td>2023-02-02</td>\n",
       "      <td>26</td>\n",
       "      <td>2023-02-02</td>\n",
       "      <td>28</td>\n",
       "    </tr>\n",
       "    <tr>\n",
       "      <th>2</th>\n",
       "      <td>2023-02-03</td>\n",
       "      <td>14</td>\n",
       "      <td>2023-02-03</td>\n",
       "      <td>17</td>\n",
       "    </tr>\n",
       "    <tr>\n",
       "      <th>3</th>\n",
       "      <td>2023-02-04</td>\n",
       "      <td>12</td>\n",
       "      <td>2023-02-04</td>\n",
       "      <td>13</td>\n",
       "    </tr>\n",
       "    <tr>\n",
       "      <th>4</th>\n",
       "      <td>2023-02-05</td>\n",
       "      <td>17</td>\n",
       "      <td>2023-02-05</td>\n",
       "      <td>24</td>\n",
       "    </tr>\n",
       "    <tr>\n",
       "      <th>...</th>\n",
       "      <td>...</td>\n",
       "      <td>...</td>\n",
       "      <td>...</td>\n",
       "      <td>...</td>\n",
       "    </tr>\n",
       "    <tr>\n",
       "      <th>145</th>\n",
       "      <td>2023-06-26</td>\n",
       "      <td>21</td>\n",
       "      <td>2023-06-26</td>\n",
       "      <td>18</td>\n",
       "    </tr>\n",
       "    <tr>\n",
       "      <th>146</th>\n",
       "      <td>2023-06-27</td>\n",
       "      <td>20</td>\n",
       "      <td>2023-06-27</td>\n",
       "      <td>21</td>\n",
       "    </tr>\n",
       "    <tr>\n",
       "      <th>147</th>\n",
       "      <td>2023-06-28</td>\n",
       "      <td>26</td>\n",
       "      <td>2023-06-28</td>\n",
       "      <td>26</td>\n",
       "    </tr>\n",
       "    <tr>\n",
       "      <th>148</th>\n",
       "      <td>2023-06-29</td>\n",
       "      <td>32</td>\n",
       "      <td>2023-06-29</td>\n",
       "      <td>43</td>\n",
       "    </tr>\n",
       "    <tr>\n",
       "      <th>149</th>\n",
       "      <td>2023-06-30</td>\n",
       "      <td>29</td>\n",
       "      <td>2023-06-30</td>\n",
       "      <td>21</td>\n",
       "    </tr>\n",
       "  </tbody>\n",
       "</table>\n",
       "<p>150 rows × 4 columns</p>\n",
       "</div>"
      ],
      "text/plain": [
       "    started_at_date  pu_ct ended_at_date  do_ct\n",
       "0        2023-02-01     20    2023-02-01     24\n",
       "1        2023-02-02     26    2023-02-02     28\n",
       "2        2023-02-03     14    2023-02-03     17\n",
       "3        2023-02-04     12    2023-02-04     13\n",
       "4        2023-02-05     17    2023-02-05     24\n",
       "..              ...    ...           ...    ...\n",
       "145      2023-06-26     21    2023-06-26     18\n",
       "146      2023-06-27     20    2023-06-27     21\n",
       "147      2023-06-28     26    2023-06-28     26\n",
       "148      2023-06-29     32    2023-06-29     43\n",
       "149      2023-06-30     29    2023-06-30     21\n",
       "\n",
       "[150 rows x 4 columns]"
      ]
     },
     "execution_count": 7,
     "metadata": {},
     "output_type": "execute_result"
    }
   ],
   "source": [
    "# Merge on started_at_date and ended_at_date\n",
    "df_bike_merge = pd.merge(pu_ct, do_ct, left_on='started_at_date', right_on='ended_at_date')\n",
    "\n",
    "# Display the combined DataFrame\n",
    "df_bike_merge"
   ]
  },
  {
   "cell_type": "code",
   "execution_count": 8,
   "metadata": {
    "id": "CIrjF0q_OEAY"
   },
   "outputs": [],
   "source": [
    "#creating a column which returns True if pu_ct >= do_ct\n",
    "df_bike_merge['greater'] = df_bike_merge['pu_ct'] >= df_bike_merge['do_ct']"
   ]
  },
  {
   "cell_type": "code",
   "execution_count": 9,
   "metadata": {
    "colab": {
     "base_uri": "https://localhost:8080/",
     "height": 423
    },
    "id": "cWGRRLupwjA_",
    "outputId": "bbad208d-e606-4382-a7b0-9b37e7105b50"
   },
   "outputs": [
    {
     "data": {
      "text/html": [
       "<div>\n",
       "<style scoped>\n",
       "    .dataframe tbody tr th:only-of-type {\n",
       "        vertical-align: middle;\n",
       "    }\n",
       "\n",
       "    .dataframe tbody tr th {\n",
       "        vertical-align: top;\n",
       "    }\n",
       "\n",
       "    .dataframe thead th {\n",
       "        text-align: right;\n",
       "    }\n",
       "</style>\n",
       "<table border=\"1\" class=\"dataframe\">\n",
       "  <thead>\n",
       "    <tr style=\"text-align: right;\">\n",
       "      <th></th>\n",
       "      <th>started_at_date</th>\n",
       "      <th>pu_ct</th>\n",
       "      <th>ended_at_date</th>\n",
       "      <th>do_ct</th>\n",
       "      <th>greater</th>\n",
       "    </tr>\n",
       "  </thead>\n",
       "  <tbody>\n",
       "    <tr>\n",
       "      <th>0</th>\n",
       "      <td>2023-02-01</td>\n",
       "      <td>20</td>\n",
       "      <td>2023-02-01</td>\n",
       "      <td>24</td>\n",
       "      <td>False</td>\n",
       "    </tr>\n",
       "    <tr>\n",
       "      <th>1</th>\n",
       "      <td>2023-02-02</td>\n",
       "      <td>26</td>\n",
       "      <td>2023-02-02</td>\n",
       "      <td>28</td>\n",
       "      <td>False</td>\n",
       "    </tr>\n",
       "    <tr>\n",
       "      <th>2</th>\n",
       "      <td>2023-02-03</td>\n",
       "      <td>14</td>\n",
       "      <td>2023-02-03</td>\n",
       "      <td>17</td>\n",
       "      <td>False</td>\n",
       "    </tr>\n",
       "    <tr>\n",
       "      <th>3</th>\n",
       "      <td>2023-02-04</td>\n",
       "      <td>12</td>\n",
       "      <td>2023-02-04</td>\n",
       "      <td>13</td>\n",
       "      <td>False</td>\n",
       "    </tr>\n",
       "    <tr>\n",
       "      <th>4</th>\n",
       "      <td>2023-02-05</td>\n",
       "      <td>17</td>\n",
       "      <td>2023-02-05</td>\n",
       "      <td>24</td>\n",
       "      <td>False</td>\n",
       "    </tr>\n",
       "    <tr>\n",
       "      <th>...</th>\n",
       "      <td>...</td>\n",
       "      <td>...</td>\n",
       "      <td>...</td>\n",
       "      <td>...</td>\n",
       "      <td>...</td>\n",
       "    </tr>\n",
       "    <tr>\n",
       "      <th>145</th>\n",
       "      <td>2023-06-26</td>\n",
       "      <td>21</td>\n",
       "      <td>2023-06-26</td>\n",
       "      <td>18</td>\n",
       "      <td>True</td>\n",
       "    </tr>\n",
       "    <tr>\n",
       "      <th>146</th>\n",
       "      <td>2023-06-27</td>\n",
       "      <td>20</td>\n",
       "      <td>2023-06-27</td>\n",
       "      <td>21</td>\n",
       "      <td>False</td>\n",
       "    </tr>\n",
       "    <tr>\n",
       "      <th>147</th>\n",
       "      <td>2023-06-28</td>\n",
       "      <td>26</td>\n",
       "      <td>2023-06-28</td>\n",
       "      <td>26</td>\n",
       "      <td>True</td>\n",
       "    </tr>\n",
       "    <tr>\n",
       "      <th>148</th>\n",
       "      <td>2023-06-29</td>\n",
       "      <td>32</td>\n",
       "      <td>2023-06-29</td>\n",
       "      <td>43</td>\n",
       "      <td>False</td>\n",
       "    </tr>\n",
       "    <tr>\n",
       "      <th>149</th>\n",
       "      <td>2023-06-30</td>\n",
       "      <td>29</td>\n",
       "      <td>2023-06-30</td>\n",
       "      <td>21</td>\n",
       "      <td>True</td>\n",
       "    </tr>\n",
       "  </tbody>\n",
       "</table>\n",
       "<p>150 rows × 5 columns</p>\n",
       "</div>"
      ],
      "text/plain": [
       "    started_at_date  pu_ct ended_at_date  do_ct  greater\n",
       "0        2023-02-01     20    2023-02-01     24    False\n",
       "1        2023-02-02     26    2023-02-02     28    False\n",
       "2        2023-02-03     14    2023-02-03     17    False\n",
       "3        2023-02-04     12    2023-02-04     13    False\n",
       "4        2023-02-05     17    2023-02-05     24    False\n",
       "..              ...    ...           ...    ...      ...\n",
       "145      2023-06-26     21    2023-06-26     18     True\n",
       "146      2023-06-27     20    2023-06-27     21    False\n",
       "147      2023-06-28     26    2023-06-28     26     True\n",
       "148      2023-06-29     32    2023-06-29     43    False\n",
       "149      2023-06-30     29    2023-06-30     21     True\n",
       "\n",
       "[150 rows x 5 columns]"
      ]
     },
     "execution_count": 9,
     "metadata": {},
     "output_type": "execute_result"
    }
   ],
   "source": [
    "df_bike_merge"
   ]
  },
  {
   "cell_type": "code",
   "execution_count": 10,
   "metadata": {
    "colab": {
     "base_uri": "https://localhost:8080/",
     "height": 423
    },
    "id": "sjRonZp2OdMP",
    "outputId": "d090fc74-3f5f-48fa-8bbf-bb3845caf9da"
   },
   "outputs": [
    {
     "data": {
      "text/html": [
       "<div>\n",
       "<style scoped>\n",
       "    .dataframe tbody tr th:only-of-type {\n",
       "        vertical-align: middle;\n",
       "    }\n",
       "\n",
       "    .dataframe tbody tr th {\n",
       "        vertical-align: top;\n",
       "    }\n",
       "\n",
       "    .dataframe thead th {\n",
       "        text-align: right;\n",
       "    }\n",
       "</style>\n",
       "<table border=\"1\" class=\"dataframe\">\n",
       "  <thead>\n",
       "    <tr style=\"text-align: right;\">\n",
       "      <th></th>\n",
       "      <th>datetime</th>\n",
       "      <th>temp</th>\n",
       "      <th>precip</th>\n",
       "      <th>windspeed</th>\n",
       "    </tr>\n",
       "  </thead>\n",
       "  <tbody>\n",
       "    <tr>\n",
       "      <th>0</th>\n",
       "      <td>2023-01-01</td>\n",
       "      <td>51.8</td>\n",
       "      <td>0.004</td>\n",
       "      <td>8.8</td>\n",
       "    </tr>\n",
       "    <tr>\n",
       "      <th>1</th>\n",
       "      <td>2023-01-02</td>\n",
       "      <td>50.9</td>\n",
       "      <td>0.000</td>\n",
       "      <td>9.1</td>\n",
       "    </tr>\n",
       "    <tr>\n",
       "      <th>2</th>\n",
       "      <td>2023-01-03</td>\n",
       "      <td>59.3</td>\n",
       "      <td>0.000</td>\n",
       "      <td>17.7</td>\n",
       "    </tr>\n",
       "    <tr>\n",
       "      <th>3</th>\n",
       "      <td>2023-01-04</td>\n",
       "      <td>59.5</td>\n",
       "      <td>0.000</td>\n",
       "      <td>14.1</td>\n",
       "    </tr>\n",
       "    <tr>\n",
       "      <th>4</th>\n",
       "      <td>2023-01-05</td>\n",
       "      <td>56.4</td>\n",
       "      <td>0.000</td>\n",
       "      <td>12.6</td>\n",
       "    </tr>\n",
       "    <tr>\n",
       "      <th>...</th>\n",
       "      <td>...</td>\n",
       "      <td>...</td>\n",
       "      <td>...</td>\n",
       "      <td>...</td>\n",
       "    </tr>\n",
       "    <tr>\n",
       "      <th>360</th>\n",
       "      <td>2023-12-27</td>\n",
       "      <td>50.4</td>\n",
       "      <td>1.046</td>\n",
       "      <td>10.0</td>\n",
       "    </tr>\n",
       "    <tr>\n",
       "      <th>361</th>\n",
       "      <td>2023-12-28</td>\n",
       "      <td>53.2</td>\n",
       "      <td>0.041</td>\n",
       "      <td>9.9</td>\n",
       "    </tr>\n",
       "    <tr>\n",
       "      <th>362</th>\n",
       "      <td>2023-12-29</td>\n",
       "      <td>50.1</td>\n",
       "      <td>0.000</td>\n",
       "      <td>16.1</td>\n",
       "    </tr>\n",
       "    <tr>\n",
       "      <th>363</th>\n",
       "      <td>2023-12-30</td>\n",
       "      <td>44.4</td>\n",
       "      <td>0.000</td>\n",
       "      <td>17.3</td>\n",
       "    </tr>\n",
       "    <tr>\n",
       "      <th>364</th>\n",
       "      <td>2023-12-31</td>\n",
       "      <td>44.6</td>\n",
       "      <td>0.000</td>\n",
       "      <td>13.7</td>\n",
       "    </tr>\n",
       "  </tbody>\n",
       "</table>\n",
       "<p>365 rows × 4 columns</p>\n",
       "</div>"
      ],
      "text/plain": [
       "       datetime  temp  precip  windspeed\n",
       "0    2023-01-01  51.8   0.004        8.8\n",
       "1    2023-01-02  50.9   0.000        9.1\n",
       "2    2023-01-03  59.3   0.000       17.7\n",
       "3    2023-01-04  59.5   0.000       14.1\n",
       "4    2023-01-05  56.4   0.000       12.6\n",
       "..          ...   ...     ...        ...\n",
       "360  2023-12-27  50.4   1.046       10.0\n",
       "361  2023-12-28  53.2   0.041        9.9\n",
       "362  2023-12-29  50.1   0.000       16.1\n",
       "363  2023-12-30  44.4   0.000       17.3\n",
       "364  2023-12-31  44.6   0.000       13.7\n",
       "\n",
       "[365 rows x 4 columns]"
      ]
     },
     "execution_count": 10,
     "metadata": {},
     "output_type": "execute_result"
    }
   ],
   "source": [
    "# Selecting specific columns\n",
    "w = df_weather[['datetime', 'temp', 'precip', 'windspeed']]\n",
    "\n",
    "# Display the DataFrame with selected columns\n",
    "w"
   ]
  },
  {
   "cell_type": "code",
   "execution_count": 11,
   "metadata": {
    "colab": {
     "base_uri": "https://localhost:8080/",
     "height": 423
    },
    "id": "w4eUPFE7dnzX",
    "outputId": "a7d73cdf-9176-4f6d-d92d-75d87eff6dc3"
   },
   "outputs": [
    {
     "data": {
      "text/html": [
       "<div>\n",
       "<style scoped>\n",
       "    .dataframe tbody tr th:only-of-type {\n",
       "        vertical-align: middle;\n",
       "    }\n",
       "\n",
       "    .dataframe tbody tr th {\n",
       "        vertical-align: top;\n",
       "    }\n",
       "\n",
       "    .dataframe thead th {\n",
       "        text-align: right;\n",
       "    }\n",
       "</style>\n",
       "<table border=\"1\" class=\"dataframe\">\n",
       "  <thead>\n",
       "    <tr style=\"text-align: right;\">\n",
       "      <th></th>\n",
       "      <th>started_at_date</th>\n",
       "      <th>pu_ct</th>\n",
       "      <th>ended_at_date</th>\n",
       "      <th>do_ct</th>\n",
       "      <th>greater</th>\n",
       "      <th>temp</th>\n",
       "      <th>precip</th>\n",
       "      <th>windspeed</th>\n",
       "    </tr>\n",
       "  </thead>\n",
       "  <tbody>\n",
       "    <tr>\n",
       "      <th>0</th>\n",
       "      <td>2023-02-01</td>\n",
       "      <td>20</td>\n",
       "      <td>2023-02-01</td>\n",
       "      <td>24</td>\n",
       "      <td>False</td>\n",
       "      <td>35.6</td>\n",
       "      <td>0.043</td>\n",
       "      <td>15.3</td>\n",
       "    </tr>\n",
       "    <tr>\n",
       "      <th>1</th>\n",
       "      <td>2023-02-02</td>\n",
       "      <td>26</td>\n",
       "      <td>2023-02-02</td>\n",
       "      <td>28</td>\n",
       "      <td>False</td>\n",
       "      <td>36.0</td>\n",
       "      <td>0.000</td>\n",
       "      <td>11.3</td>\n",
       "    </tr>\n",
       "    <tr>\n",
       "      <th>2</th>\n",
       "      <td>2023-02-03</td>\n",
       "      <td>14</td>\n",
       "      <td>2023-02-03</td>\n",
       "      <td>17</td>\n",
       "      <td>False</td>\n",
       "      <td>31.7</td>\n",
       "      <td>0.000</td>\n",
       "      <td>28.1</td>\n",
       "    </tr>\n",
       "    <tr>\n",
       "      <th>3</th>\n",
       "      <td>2023-02-04</td>\n",
       "      <td>12</td>\n",
       "      <td>2023-02-04</td>\n",
       "      <td>13</td>\n",
       "      <td>False</td>\n",
       "      <td>24.5</td>\n",
       "      <td>0.000</td>\n",
       "      <td>16.9</td>\n",
       "    </tr>\n",
       "    <tr>\n",
       "      <th>4</th>\n",
       "      <td>2023-02-05</td>\n",
       "      <td>17</td>\n",
       "      <td>2023-02-05</td>\n",
       "      <td>24</td>\n",
       "      <td>False</td>\n",
       "      <td>44.2</td>\n",
       "      <td>0.000</td>\n",
       "      <td>17.9</td>\n",
       "    </tr>\n",
       "    <tr>\n",
       "      <th>...</th>\n",
       "      <td>...</td>\n",
       "      <td>...</td>\n",
       "      <td>...</td>\n",
       "      <td>...</td>\n",
       "      <td>...</td>\n",
       "      <td>...</td>\n",
       "      <td>...</td>\n",
       "      <td>...</td>\n",
       "    </tr>\n",
       "    <tr>\n",
       "      <th>145</th>\n",
       "      <td>2023-06-26</td>\n",
       "      <td>21</td>\n",
       "      <td>2023-06-26</td>\n",
       "      <td>18</td>\n",
       "      <td>True</td>\n",
       "      <td>80.8</td>\n",
       "      <td>0.000</td>\n",
       "      <td>14.4</td>\n",
       "    </tr>\n",
       "    <tr>\n",
       "      <th>146</th>\n",
       "      <td>2023-06-27</td>\n",
       "      <td>20</td>\n",
       "      <td>2023-06-27</td>\n",
       "      <td>21</td>\n",
       "      <td>False</td>\n",
       "      <td>74.2</td>\n",
       "      <td>0.755</td>\n",
       "      <td>16.4</td>\n",
       "    </tr>\n",
       "    <tr>\n",
       "      <th>147</th>\n",
       "      <td>2023-06-28</td>\n",
       "      <td>26</td>\n",
       "      <td>2023-06-28</td>\n",
       "      <td>26</td>\n",
       "      <td>True</td>\n",
       "      <td>74.7</td>\n",
       "      <td>0.000</td>\n",
       "      <td>15.7</td>\n",
       "    </tr>\n",
       "    <tr>\n",
       "      <th>148</th>\n",
       "      <td>2023-06-29</td>\n",
       "      <td>32</td>\n",
       "      <td>2023-06-29</td>\n",
       "      <td>43</td>\n",
       "      <td>False</td>\n",
       "      <td>75.7</td>\n",
       "      <td>0.000</td>\n",
       "      <td>9.8</td>\n",
       "    </tr>\n",
       "    <tr>\n",
       "      <th>149</th>\n",
       "      <td>2023-06-30</td>\n",
       "      <td>29</td>\n",
       "      <td>2023-06-30</td>\n",
       "      <td>21</td>\n",
       "      <td>True</td>\n",
       "      <td>76.2</td>\n",
       "      <td>0.426</td>\n",
       "      <td>14.9</td>\n",
       "    </tr>\n",
       "  </tbody>\n",
       "</table>\n",
       "<p>150 rows × 8 columns</p>\n",
       "</div>"
      ],
      "text/plain": [
       "    started_at_date  pu_ct ended_at_date  do_ct  greater  temp  precip  \\\n",
       "0        2023-02-01     20    2023-02-01     24    False  35.6   0.043   \n",
       "1        2023-02-02     26    2023-02-02     28    False  36.0   0.000   \n",
       "2        2023-02-03     14    2023-02-03     17    False  31.7   0.000   \n",
       "3        2023-02-04     12    2023-02-04     13    False  24.5   0.000   \n",
       "4        2023-02-05     17    2023-02-05     24    False  44.2   0.000   \n",
       "..              ...    ...           ...    ...      ...   ...     ...   \n",
       "145      2023-06-26     21    2023-06-26     18     True  80.8   0.000   \n",
       "146      2023-06-27     20    2023-06-27     21    False  74.2   0.755   \n",
       "147      2023-06-28     26    2023-06-28     26     True  74.7   0.000   \n",
       "148      2023-06-29     32    2023-06-29     43    False  75.7   0.000   \n",
       "149      2023-06-30     29    2023-06-30     21     True  76.2   0.426   \n",
       "\n",
       "     windspeed  \n",
       "0         15.3  \n",
       "1         11.3  \n",
       "2         28.1  \n",
       "3         16.9  \n",
       "4         17.9  \n",
       "..         ...  \n",
       "145       14.4  \n",
       "146       16.4  \n",
       "147       15.7  \n",
       "148        9.8  \n",
       "149       14.9  \n",
       "\n",
       "[150 rows x 8 columns]"
      ]
     },
     "execution_count": 11,
     "metadata": {},
     "output_type": "execute_result"
    }
   ],
   "source": [
    "# Merge df_combined with df_weather on 'started_at_date' and 'datetime'\n",
    "df_bike_merge = df_bike_merge.merge(w, left_on='started_at_date', right_on='datetime')\n",
    "\n",
    "# Drop redundant 'datetime' column\n",
    "df_bike_merge.drop('datetime', axis=1, inplace=True)\n",
    "\n",
    "# Display the merged DataFrame\n",
    "df_bike_merge"
   ]
  },
  {
   "cell_type": "markdown",
   "metadata": {
    "id": "sHOC3zJiGX_W"
   },
   "source": [
    "[10 marks for each question.]\n",
    "\n",
    "[Note: you need to load relevant packages in the lecture python example.]\n",
    "### Questions\n",
    "\n",
    "#### (1)\tPrepare the target variable (Y) and features (X)."
   ]
  },
  {
   "cell_type": "code",
   "execution_count": 12,
   "metadata": {
    "id": "8X2uOtdbGX_X"
   },
   "outputs": [],
   "source": [
    "X = df_bike_merge[['temp','precip', 'windspeed']]\n",
    "y = df_bike_merge['greater']"
   ]
  },
  {
   "cell_type": "markdown",
   "metadata": {
    "id": "uPFW73gHGX_X"
   },
   "source": [
    "#### (2) Use train_test_split function from sklearn package to randomly split the entire data into training data (e.g., 40%) and test set (e.g., 60%).\n",
    "\n"
   ]
  },
  {
   "cell_type": "code",
   "execution_count": 13,
   "metadata": {
    "id": "tqgaCGDIGX_X"
   },
   "outputs": [],
   "source": [
    "from sklearn.model_selection import train_test_split\n",
    "X_train, X_test, y_train, y_test = train_test_split(X.values, y, test_size = 0.60, random_state=20)"
   ]
  },
  {
   "cell_type": "markdown",
   "metadata": {
    "id": "-ChjHRLaGX_X"
   },
   "source": [
    "#### (3)\tTrain a logistic regression model (simply with the default setting), get the model coefficients, and write the decision boundary formula by replacing the corresponding $\\beta$'s below:\n",
    "\n",
    "$$\n",
    "f(x)=\\beta_0+\\beta_1*temp+\\beta_2*precip+\\beta_3*windspeed\n",
    "$$\n",
    "\n",
    "Answer:"
   ]
  },
  {
   "cell_type": "code",
   "execution_count": 22,
   "metadata": {
    "colab": {
     "base_uri": "https://localhost:8080/"
    },
    "id": "027_s_QaGX_X",
    "outputId": "60369aa0-61b0-441e-8950-309c7ef2f730"
   },
   "outputs": [
    {
     "name": "stdout",
     "output_type": "stream",
     "text": [
      "The intercept beta_0 is  [-1.98523324]  and the feature coefficients are  [[ 0.00749616 -0.57846369  0.08694727]]\n"
     ]
    }
   ],
   "source": [
    "from sklearn.linear_model import LogisticRegression\n",
    "\n",
    "log = LogisticRegression(random_state=20).fit(X_train, y_train)\n",
    "\n",
    "#print coefficients and the intercept\n",
    "print('The intercept beta_0 is ', log.intercept_, ' and the feature coefficients are ',log.coef_)"
   ]
  },
  {
   "cell_type": "markdown",
   "metadata": {
    "id": "kv2P3w_xPBbc"
   },
   "source": [
    "f(x) = -1.98523324 + (0.00749616)(temp) + (-0.57846369)(precip) + (0.08694727)(windspeed)"
   ]
  },
  {
   "cell_type": "markdown",
   "metadata": {
    "id": "ySyc9ICIGX_X"
   },
   "source": [
    "#### (4)  Report both the in-sample and out-of-sample accuracy scores.\n",
    "\n",
    "Answer:"
   ]
  },
  {
   "cell_type": "code",
   "execution_count": 23,
   "metadata": {
    "colab": {
     "base_uri": "https://localhost:8080/"
    },
    "id": "G43zg8HtGX_X",
    "outputId": "6fcb10ec-6d85-43cf-b968-27fbdda65c8a"
   },
   "outputs": [
    {
     "data": {
      "text/plain": [
       "0.65"
      ]
     },
     "execution_count": 23,
     "metadata": {},
     "output_type": "execute_result"
    }
   ],
   "source": [
    "#in-sample prediction performance/ accuracy using only training data\n",
    "y_pred = log.predict(X_train)\n",
    "from sklearn.metrics import accuracy_score\n",
    "accuracy_score(y_train, y_pred)"
   ]
  },
  {
   "cell_type": "code",
   "execution_count": 24,
   "metadata": {
    "colab": {
     "base_uri": "https://localhost:8080/"
    },
    "id": "97A2WiSrPWgv",
    "outputId": "2c057c46-308b-4649-f48d-cd02265319ae"
   },
   "outputs": [
    {
     "data": {
      "text/plain": [
       "0.5111111111111111"
      ]
     },
     "execution_count": 24,
     "metadata": {},
     "output_type": "execute_result"
    }
   ],
   "source": [
    "#out of sample accuracy scores/ accuracy using test data\n",
    "y_pred = log.predict(X_test)\n",
    "accuracy_score(y_test, y_pred)"
   ]
  },
  {
   "cell_type": "markdown",
   "metadata": {
    "id": "W5nO2rVoGX_X"
   },
   "source": [
    "#### (5)\tCheck the order of classes in the model and use sklearn function 'predict_proba(X)' to calculate the probability of 'more pickups than dropoffs' for the first instance in the test data.\n",
    "Answer:"
   ]
  },
  {
   "cell_type": "code",
   "execution_count": 25,
   "metadata": {
    "colab": {
     "base_uri": "https://localhost:8080/"
    },
    "id": "ECS-QxXwGX_X",
    "outputId": "4e248045-5e11-4a40-b27a-0dc93cabb11d"
   },
   "outputs": [
    {
     "data": {
      "text/plain": [
       "array([False,  True])"
      ]
     },
     "execution_count": 25,
     "metadata": {},
     "output_type": "execute_result"
    }
   ],
   "source": [
    "log.classes_"
   ]
  },
  {
   "cell_type": "code",
   "execution_count": 26,
   "metadata": {
    "colab": {
     "base_uri": "https://localhost:8080/"
    },
    "id": "ARKQl4TjPgpD",
    "outputId": "a5741aa5-7e5d-4338-9fdf-1161bf8bf7b7"
   },
   "outputs": [
    {
     "name": "stdout",
     "output_type": "stream",
     "text": [
      "[[0.6662315 0.3337685]]\n"
     ]
    }
   ],
   "source": [
    "#probability\n",
    "y_pred = log.predict_proba(X_test[[0]])\n",
    "print(y_pred)"
   ]
  },
  {
   "cell_type": "markdown",
   "metadata": {
    "id": "yZQgyEhtPyOT"
   },
   "source": [
    "Probability of having  'more number of pickups than dropoffs' = 0.3337685"
   ]
  },
  {
   "cell_type": "markdown",
   "metadata": {
    "id": "UCO8I8AUGX_X"
   },
   "source": [
    "#### (6)\tUse 'decision_function(x)' to score each instance in the test data, print the score for the first instance in the test data, verify the probability of 'more pickups than dropoffs' for this instance using the score.\n",
    "Answer:"
   ]
  },
  {
   "cell_type": "code",
   "execution_count": 27,
   "metadata": {
    "colab": {
     "base_uri": "https://localhost:8080/"
    },
    "id": "_I8mpVyPGX_Y",
    "outputId": "d9aeb6f7-f7f8-4af0-9141-b630c6e910e1"
   },
   "outputs": [
    {
     "name": "stdout",
     "output_type": "stream",
     "text": [
      "Using decision function f(x) to score the 1st instance: -0.6911895682401055\n",
      "The estimated probability: 0.33376850013564113\n"
     ]
    }
   ],
   "source": [
    "f_x = log.decision_function(X_test)\n",
    "print('Using decision function f(x) to score the 1st instance:', f_x[0])\n",
    "\n",
    "# convert f(x) to class probability using the logistic function\n",
    "print('The estimated probability:',  np.exp(f_x[0])/(1+np.exp(f_x[0])))"
   ]
  },
  {
   "cell_type": "code",
   "execution_count": null,
   "metadata": {},
   "outputs": [],
   "source": []
  }
 ],
 "metadata": {
  "colab": {
   "provenance": []
  },
  "kernelspec": {
   "display_name": "Python 3 (ipykernel)",
   "language": "python",
   "name": "python3"
  },
  "language_info": {
   "codemirror_mode": {
    "name": "ipython",
    "version": 3
   },
   "file_extension": ".py",
   "mimetype": "text/x-python",
   "name": "python",
   "nbconvert_exporter": "python",
   "pygments_lexer": "ipython3",
   "version": "3.11.4"
  }
 },
 "nbformat": 4,
 "nbformat_minor": 1
}
